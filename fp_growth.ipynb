{
 "cells": [
  {
   "attachments": {},
   "cell_type": "markdown",
   "metadata": {},
   "source": [
    "## 1. Demo Code for FP_Growth"
   ]
  },
  {
   "cell_type": "code",
   "execution_count": 1,
   "metadata": {},
   "outputs": [
    {
     "name": "stdout",
     "output_type": "stream",
     "text": [
      "Collecting mlxtend\n",
      "  Downloading mlxtend-0.22.0-py2.py3-none-any.whl (1.4 MB)\n",
      "\u001b[K     |████████████████████████████████| 1.4 MB 7.8 MB/s eta 0:00:01\n",
      "\u001b[?25hCollecting scikit-learn>=1.0.2\n",
      "  Downloading scikit_learn-1.2.2-cp39-cp39-macosx_10_9_x86_64.whl (9.1 MB)\n",
      "\u001b[K     |████████████████████████████████| 9.1 MB 11.4 MB/s eta 0:00:01\n",
      "\u001b[?25hRequirement already satisfied: setuptools in /opt/anaconda3/lib/python3.9/site-packages (from mlxtend) (58.0.4)\n",
      "Requirement already satisfied: numpy>=1.16.2 in /opt/anaconda3/lib/python3.9/site-packages (from mlxtend) (1.20.3)\n",
      "Requirement already satisfied: joblib>=0.13.2 in /opt/anaconda3/lib/python3.9/site-packages (from mlxtend) (1.1.0)\n",
      "Requirement already satisfied: scipy>=1.2.1 in /opt/anaconda3/lib/python3.9/site-packages (from mlxtend) (1.7.1)\n",
      "Requirement already satisfied: pandas>=0.24.2 in /opt/anaconda3/lib/python3.9/site-packages (from mlxtend) (1.3.4)\n",
      "Requirement already satisfied: matplotlib>=3.0.0 in /opt/anaconda3/lib/python3.9/site-packages (from mlxtend) (3.4.3)\n",
      "Requirement already satisfied: kiwisolver>=1.0.1 in /opt/anaconda3/lib/python3.9/site-packages (from matplotlib>=3.0.0->mlxtend) (1.3.1)\n",
      "Requirement already satisfied: pyparsing>=2.2.1 in /opt/anaconda3/lib/python3.9/site-packages (from matplotlib>=3.0.0->mlxtend) (3.0.4)\n",
      "Requirement already satisfied: python-dateutil>=2.7 in /opt/anaconda3/lib/python3.9/site-packages (from matplotlib>=3.0.0->mlxtend) (2.8.2)\n",
      "Requirement already satisfied: cycler>=0.10 in /opt/anaconda3/lib/python3.9/site-packages (from matplotlib>=3.0.0->mlxtend) (0.10.0)\n",
      "Requirement already satisfied: pillow>=6.2.0 in /opt/anaconda3/lib/python3.9/site-packages (from matplotlib>=3.0.0->mlxtend) (8.4.0)\n",
      "Requirement already satisfied: six in /opt/anaconda3/lib/python3.9/site-packages (from cycler>=0.10->matplotlib>=3.0.0->mlxtend) (1.16.0)\n",
      "Requirement already satisfied: pytz>=2017.3 in /Users/linkeke/.local/lib/python3.9/site-packages/pytz-2021.3-py3.9.egg (from pandas>=0.24.2->mlxtend) (2021.3)\n",
      "Collecting joblib>=0.13.2\n",
      "  Downloading joblib-1.2.0-py3-none-any.whl (297 kB)\n",
      "\u001b[K     |████████████████████████████████| 297 kB 12.4 MB/s eta 0:00:01\n",
      "\u001b[?25hRequirement already satisfied: threadpoolctl>=2.0.0 in /opt/anaconda3/lib/python3.9/site-packages (from scikit-learn>=1.0.2->mlxtend) (2.2.0)\n",
      "Installing collected packages: joblib, scikit-learn, mlxtend\n",
      "  Attempting uninstall: joblib\n",
      "    Found existing installation: joblib 1.1.0\n",
      "    Uninstalling joblib-1.1.0:\n",
      "      Successfully uninstalled joblib-1.1.0\n",
      "  Attempting uninstall: scikit-learn\n",
      "    Found existing installation: scikit-learn 0.24.2\n",
      "    Uninstalling scikit-learn-0.24.2:\n",
      "      Successfully uninstalled scikit-learn-0.24.2\n",
      "Successfully installed joblib-1.2.0 mlxtend-0.22.0 scikit-learn-1.2.2\n"
     ]
    }
   ],
   "source": [
    "!pip install mlxtend"
   ]
  },
  {
   "cell_type": "code",
   "execution_count": 2,
   "metadata": {},
   "outputs": [
    {
     "name": "stdout",
     "output_type": "stream",
     "text": [
      "    support                itemsets\n",
      "0       0.8                  (milk)\n",
      "1       0.8                 (bread)\n",
      "2       0.8               (diapers)\n",
      "3       0.8                  (beer)\n",
      "4       0.6           (bread, milk)\n",
      "5       0.6        (bread, diapers)\n",
      "6       0.6         (milk, diapers)\n",
      "7       0.8         (beer, diapers)\n",
      "8       0.6           (bread, beer)\n",
      "9       0.6            (beer, milk)\n",
      "10      0.6  (bread, beer, diapers)\n",
      "11      0.6   (beer, milk, diapers)\n"
     ]
    }
   ],
   "source": [
    "from mlxtend.preprocessing import TransactionEncoder\n",
    "from mlxtend.frequent_patterns import fpgrowth\n",
    "import pandas as pd\n",
    "\n",
    "# Define the transactions\n",
    "transactions = [['bread', 'milk', 'cheese'],\n",
    "                ['bread', 'diapers', 'eggs', 'beer'],\n",
    "                ['milk', 'diapers', 'beer', 'cola'],\n",
    "                ['bread', 'milk', 'diapers', 'beer'],\n",
    "                ['bread', 'milk', 'cheese', 'diapers', 'beer']]\n",
    "\n",
    "# Create the transaction encoder\n",
    "te = TransactionEncoder()\n",
    "te_ary = te.fit(transactions).transform(transactions)\n",
    "df = pd.DataFrame(te_ary, columns=te.columns_)\n",
    "\n",
    "# Run the FP-Growth algorithm\n",
    "frequent_itemsets = fpgrowth(df, min_support=0.6, use_colnames=True)\n",
    "\n",
    "# Print the results\n",
    "print(frequent_itemsets)\n"
   ]
  },
  {
   "attachments": {},
   "cell_type": "markdown",
   "metadata": {},
   "source": [
    "- From this output, we can see that the most frequent itemsets are (bread) and (milk), both of which appear in 80% of the transactions. \n",
    "\n",
    "- The most frequent itemset that contains multiple items is (beer, diapers), which appears in 80% of the transactions.\n",
    "\n",
    "- We can also see that there are several other frequent itemsets, such as (bread, milk) and (bread, milk, diapers). These itemsets could be used to make recommendations to customers, such as suggesting that customers who purchase bread and milk should also consider purchasing diapers."
   ]
  },
  {
   "attachments": {},
   "cell_type": "markdown",
   "metadata": {},
   "source": [
    "## 2. Mini Exercises"
   ]
  },
  {
   "attachments": {},
   "cell_type": "markdown",
   "metadata": {},
   "source": [
    "- 1. Modify the min_support parameter in the fpgrowth function to see how the minimum support threshold affects the resulting frequent itemsets.\n",
    "\n",
    "- 2. Try adding additional transactions to the transactions list to see how the size of the dataset affects the performance of the algorithm.\n",
    "\n",
    "- 3. Use the resulting frequent itemsets to make recommendations for which items customers who purchase milk and beer should consider purchasing as well.\n",
    "\n",
    "- 4. Try using a different Python library, such as pyfpgrowth, to implement the FP-Growth algorithm and compare the results to the mlxtend implementation."
   ]
  },
  {
   "attachments": {},
   "cell_type": "markdown",
   "metadata": {},
   "source": [
    "### Your excercises here!"
   ]
  },
  {
   "cell_type": "code",
   "execution_count": null,
   "metadata": {},
   "outputs": [],
   "source": []
  },
  {
   "cell_type": "code",
   "execution_count": null,
   "metadata": {},
   "outputs": [],
   "source": []
  }
 ],
 "metadata": {
  "kernelspec": {
   "display_name": "base",
   "language": "python",
   "name": "python3"
  },
  "language_info": {
   "codemirror_mode": {
    "name": "ipython",
    "version": 3
   },
   "file_extension": ".py",
   "mimetype": "text/x-python",
   "name": "python",
   "nbconvert_exporter": "python",
   "pygments_lexer": "ipython3",
   "version": "3.9.7"
  },
  "orig_nbformat": 4
 },
 "nbformat": 4,
 "nbformat_minor": 2
}
