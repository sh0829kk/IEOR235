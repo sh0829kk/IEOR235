{
 "cells": [
  {
   "cell_type": "code",
   "execution_count": 2,
   "metadata": {},
   "outputs": [
    {
     "name": "stdout",
     "output_type": "stream",
     "text": [
      "    support                itemsets\n",
      "0      1.00                  (milk)\n",
      "1      0.75                 (bread)\n",
      "2      0.75                  (beer)\n",
      "3      0.50                 (water)\n",
      "4      0.75               (diapers)\n",
      "5      0.75           (bread, milk)\n",
      "6      0.50        (bread, diapers)\n",
      "7      0.50  (bread, diapers, milk)\n",
      "8      0.75            (milk, beer)\n",
      "9      0.50           (bread, beer)\n",
      "10     0.50         (beer, diapers)\n",
      "11     0.50     (bread, beer, milk)\n",
      "12     0.50   (milk, beer, diapers)\n",
      "13     0.50          (bread, water)\n",
      "14     0.50           (milk, water)\n",
      "15     0.50    (bread, milk, water)\n",
      "16     0.75         (milk, diapers)\n",
      "         antecedents    consequents  antecedent support  consequent support  \\\n",
      "0            (bread)         (milk)                0.75                1.00   \n",
      "1             (milk)        (bread)                1.00                0.75   \n",
      "2   (bread, diapers)         (milk)                0.50                1.00   \n",
      "3             (milk)         (beer)                1.00                0.75   \n",
      "4             (beer)         (milk)                0.75                1.00   \n",
      "5      (bread, beer)         (milk)                0.50                1.00   \n",
      "6    (beer, diapers)         (milk)                0.50                1.00   \n",
      "7            (water)        (bread)                0.50                0.75   \n",
      "8            (water)         (milk)                0.50                1.00   \n",
      "9     (bread, water)         (milk)                0.50                1.00   \n",
      "10     (milk, water)        (bread)                0.50                0.75   \n",
      "11           (water)  (bread, milk)                0.50                0.75   \n",
      "12            (milk)      (diapers)                1.00                0.75   \n",
      "13         (diapers)         (milk)                0.75                1.00   \n",
      "\n",
      "    support  confidence      lift  leverage  conviction  zhangs_metric  \n",
      "0      0.75        1.00  1.000000     0.000         inf            0.0  \n",
      "1      0.75        0.75  1.000000     0.000         1.0            0.0  \n",
      "2      0.50        1.00  1.000000     0.000         inf            0.0  \n",
      "3      0.75        0.75  1.000000     0.000         1.0            0.0  \n",
      "4      0.75        1.00  1.000000     0.000         inf            0.0  \n",
      "5      0.50        1.00  1.000000     0.000         inf            0.0  \n",
      "6      0.50        1.00  1.000000     0.000         inf            0.0  \n",
      "7      0.50        1.00  1.333333     0.125         inf            0.5  \n",
      "8      0.50        1.00  1.000000     0.000         inf            0.0  \n",
      "9      0.50        1.00  1.000000     0.000         inf            0.0  \n",
      "10     0.50        1.00  1.333333     0.125         inf            0.5  \n",
      "11     0.50        1.00  1.333333     0.125         inf            0.5  \n",
      "12     0.75        0.75  1.000000     0.000         1.0            0.0  \n",
      "13     0.75        1.00  1.000000     0.000         inf            0.0  \n"
     ]
    }
   ],
   "source": [
    "# import the necessary libraries\n",
    "from mlxtend.preprocessing import TransactionEncoder\n",
    "from mlxtend.frequent_patterns import fpgrowth, association_rules\n",
    "import pandas as pd\n",
    "\n",
    "# define the transactions\n",
    "transactions = [['milk', 'bread', 'water', 'beer'],\n",
    "                ['milk', 'diapers', 'beer'],\n",
    "                ['milk', 'bread', 'diapers', 'beer'],\n",
    "                ['milk', 'bread', 'diapers', 'water']]\n",
    "\n",
    "# initialize the TransactionEncoder\n",
    "te = TransactionEncoder()\n",
    "\n",
    "# fit and transform the transaction data using the TransactionEncoder\n",
    "te_ary = te.fit(transactions).transform(transactions)\n",
    "\n",
    "# create a dataframe from the transformed data\n",
    "df = pd.DataFrame(te_ary, columns=te.columns_)\n",
    "\n",
    "# run the fpgrowth algorithm with a minimum support threshold of 0.5\n",
    "frequent_itemsets = fpgrowth(df, min_support=0.5, use_colnames=True)\n",
    "\n",
    "# generate association rules from the frequent itemsets\n",
    "association_rules = association_rules(frequent_itemsets, metric=\"confidence\", min_threshold=0.7)\n",
    "\n",
    "# output the frequent itemsets\n",
    "print(frequent_itemsets)\n",
    "\n",
    "# output the association rules\n",
    "print(association_rules)\n"
   ]
  },
  {
   "cell_type": "code",
   "execution_count": null,
   "metadata": {},
   "outputs": [],
   "source": []
  }
 ],
 "metadata": {
  "kernelspec": {
   "display_name": "base",
   "language": "python",
   "name": "python3"
  },
  "language_info": {
   "codemirror_mode": {
    "name": "ipython",
    "version": 3
   },
   "file_extension": ".py",
   "mimetype": "text/x-python",
   "name": "python",
   "nbconvert_exporter": "python",
   "pygments_lexer": "ipython3",
   "version": "3.9.7"
  },
  "orig_nbformat": 4
 },
 "nbformat": 4,
 "nbformat_minor": 2
}
